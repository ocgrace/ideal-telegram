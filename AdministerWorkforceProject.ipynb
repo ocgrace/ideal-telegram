{
 "cells": [
  {
   "cell_type": "markdown",
   "metadata": {},
   "source": [
    "# Administer your Workforce Project with Python"
   ]
  },
  {
   "cell_type": "markdown",
   "metadata": {},
   "source": [
    "Welcome to Jupyter Notebooks. This is a useful tool that can be used to manage your ArcGIS Online Organization through the use of Python. In this notebook we take existing hosted feature layers in ArcGIS Online and integrate it with a Workforce project to make assignments."
   ]
  },
  {
   "cell_type": "code",
   "execution_count": 1,
   "metadata": {},
   "outputs": [],
   "source": [
    "from datetime import datetime\n",
    "import pandas as pd\n",
    "from arcgis.gis import GIS\n",
    "from arcgis.apps import workforce\n",
    "from getpass import getpass"
   ]
  },
  {
   "cell_type": "markdown",
   "metadata": {},
   "source": [
    "Start by connecting to your GIS Organization. Provide a username, password and URL."
   ]
  },
  {
   "cell_type": "code",
   "execution_count": 2,
   "metadata": {},
   "outputs": [
    {
     "name": "stdout",
     "output_type": "stream",
     "text": [
      "········\n"
     ]
    }
   ],
   "source": [
    "password = getpass()"
   ]
  },
  {
   "cell_type": "code",
   "execution_count": 3,
   "metadata": {},
   "outputs": [],
   "source": [
    "gis = GIS(\"https://esrican-desktop.maps.arcgis.com/home/organization.html\", \"goconnell_desktop\", password)"
   ]
  },
  {
   "cell_type": "markdown",
   "metadata": {},
   "source": [
    "Connect to your existing workforce project in your ArcGIS Online organization."
   ]
  },
  {
   "cell_type": "code",
   "execution_count": 4,
   "metadata": {},
   "outputs": [],
   "source": [
    "item = gis.content.get(\"b70aaefc86654858aee5671d591b86cd\")\n",
    "project = workforce.Project(item)"
   ]
  },
  {
   "cell_type": "markdown",
   "metadata": {},
   "source": [
    "Determine the assignment type you will be creating and the dispatcher of the project. Identify the layer that has the point data you will be using to create assignments. "
   ]
  },
  {
   "cell_type": "code",
   "execution_count": 5,
   "metadata": {},
   "outputs": [],
   "source": [
    "patrol_division = project.assignment_types.get(name=\"Patrol Division\")\n",
    "dispatcher = project.dispatchers.get(user_id=\"goconnell_desktop\")"
   ]
  },
  {
   "cell_type": "code",
   "execution_count": 16,
   "metadata": {},
   "outputs": [],
   "source": [
    "layer = gis.content.get(\"db86949572404bc6a7125b189897075d\").layers[0]\n",
    "patrols = layer.query(\"1=1\", out_sr=3857).features"
   ]
  },
  {
   "cell_type": "markdown",
   "metadata": {},
   "source": [
    "Use the map widget to examine your data - how many events are there, what types are they, and will they need further parsing before becoming assignments?"
   ]
  },
  {
   "cell_type": "code",
   "execution_count": 17,
   "metadata": {},
   "outputs": [
    {
     "data": {
      "application/vnd.jupyter.widget-view+json": {
       "model_id": "68ef04b0d14e4f47a1c87876bfea05e5",
       "version_major": 2,
       "version_minor": 0
      },
      "text/plain": [
       "MapView(layout=Layout(height='400px', width='100%'), zoom=12.0)"
      ]
     },
     "metadata": {},
     "output_type": "display_data"
    }
   ],
   "source": [
    "patrols_map = gis.map(\"Naperville, IL\", zoomlevel=12)\n",
    "patrols_map.add_layer(layer)\n",
    "patrols_map"
   ]
  },
  {
   "cell_type": "markdown",
   "metadata": {},
   "source": [
    "Append your features to your assignments layer and field map all the required data."
   ]
  },
  {
   "cell_type": "code",
   "execution_count": 18,
   "metadata": {},
   "outputs": [
    {
     "data": {
      "text/plain": [
       "[<Assignment 31>,\n",
       " <Assignment 32>,\n",
       " <Assignment 33>,\n",
       " <Assignment 34>,\n",
       " <Assignment 35>,\n",
       " <Assignment 36>,\n",
       " <Assignment 37>,\n",
       " <Assignment 38>,\n",
       " <Assignment 39>,\n",
       " <Assignment 40>,\n",
       " <Assignment 41>,\n",
       " <Assignment 42>,\n",
       " <Assignment 43>,\n",
       " <Assignment 44>,\n",
       " <Assignment 45>]"
      ]
     },
     "execution_count": 18,
     "metadata": {},
     "output_type": "execute_result"
    }
   ],
   "source": [
    "assignments = []\n",
    "for feature in patrols:\n",
    "    assignments.append(\n",
    "        workforce.Assignment(\n",
    "            project,\n",
    "            geometry=feature.geometry,\n",
    "            location=feature.attributes[\"location\"],\n",
    "            description=feature.attributes[\"activity_observed\"],\n",
    "            priority=feature.attributes[\"priority\"],\n",
    "            assignment_type=patrol_division,\n",
    "            dispatcher=dispatcher,\n",
    "            status=\"unassigned\"\n",
    "        )\n",
    "    )\n",
    "project.assignments.batch_add(assignments)"
   ]
  },
  {
   "cell_type": "markdown",
   "metadata": {},
   "source": [
    "QA your results, is your assignment list complete?"
   ]
  },
  {
   "cell_type": "code",
   "execution_count": 20,
   "metadata": {},
   "outputs": [
    {
     "data": {
      "text/plain": [
       "[<Assignment 31>,\n",
       " <Assignment 32>,\n",
       " <Assignment 33>,\n",
       " <Assignment 34>,\n",
       " <Assignment 35>,\n",
       " <Assignment 36>,\n",
       " <Assignment 37>,\n",
       " <Assignment 38>,\n",
       " <Assignment 39>,\n",
       " <Assignment 40>,\n",
       " <Assignment 41>,\n",
       " <Assignment 42>,\n",
       " <Assignment 43>,\n",
       " <Assignment 44>,\n",
       " <Assignment 45>]"
      ]
     },
     "execution_count": 20,
     "metadata": {},
     "output_type": "execute_result"
    }
   ],
   "source": [
    "proj_assignments = project.assignments.search()\n",
    "proj_assignments"
   ]
  },
  {
   "cell_type": "markdown",
   "metadata": {},
   "source": [
    "All of your assignments we added to the Patrol Division by default. The following code block parses through the assignments, and reassigns the types as needed."
   ]
  },
  {
   "cell_type": "code",
   "execution_count": 15,
   "metadata": {},
   "outputs": [
    {
     "name": "stdout",
     "output_type": "stream",
     "text": [
      "Type: Site Visit\n",
      "Type: Patrol Division\n",
      "Type: Community Policing\n",
      "Type: Narcotics Unit\n",
      "Type: Major Crimes Unit\n",
      "Type: Office of the Mayor\n"
     ]
    }
   ],
   "source": [
    "# List all assignment types\n",
    "assignment_types = project.assignment_types.search()\n",
    "for at in assignment_types:\n",
    "    print(f\"Type: {at.name}\")"
   ]
  },
  {
   "cell_type": "code",
   "execution_count": 27,
   "metadata": {},
   "outputs": [],
   "source": [
    "for a in proj_assignments:\n",
    "    if a.description == \"DrugParaphernalia\":\n",
    "        a.assignment_type = \"Site Visit\"\n",
    "    elif a.description == \"DrugSale\":\n",
    "        a.assignment_type = \"Major Crimes Unit\"\n",
    "    elif a.description == \"PatientFraud\" or \"PrescriptionFraud\":\n",
    "        a.assignment_type = \"Community Policing\"\n",
    "    elif a.description == \"DrugTheft\":\n",
    "        a.assignment_type = \"Narcotics Unit\"\n",
    "    else:\n",
    "        a.assignment_type = \"Patrol Division\""
   ]
  },
  {
   "cell_type": "code",
   "execution_count": 28,
   "metadata": {},
   "outputs": [
    {
     "name": "stdout",
     "output_type": "stream",
     "text": [
      "Type: Site Visit\n",
      "Type: Major Crimes Unit\n",
      "Type: Site Visit\n",
      "Type: Community Policing\n",
      "Type: Community Policing\n",
      "Type: Community Policing\n",
      "Type: Community Policing\n",
      "Type: Major Crimes Unit\n",
      "Type: Community Policing\n",
      "Type: Community Policing\n",
      "Type: Site Visit\n",
      "Type: Community Policing\n",
      "Type: Community Policing\n",
      "Type: Site Visit\n",
      "Type: Site Visit\n"
     ]
    }
   ],
   "source": [
    "for a in proj_assignments:\n",
    "    print(f\"Type: {a.assignment_type}\")"
   ]
  },
  {
   "cell_type": "code",
   "execution_count": null,
   "metadata": {},
   "outputs": [],
   "source": []
  }
 ],
 "metadata": {
  "kernelspec": {
   "display_name": "Python 3",
   "language": "python",
   "name": "python3"
  },
  "language_info": {
   "codemirror_mode": {
    "name": "ipython",
    "version": 3
   },
   "file_extension": ".py",
   "mimetype": "text/x-python",
   "name": "python",
   "nbconvert_exporter": "python",
   "pygments_lexer": "ipython3",
   "version": "3.6.5"
  }
 },
 "nbformat": 4,
 "nbformat_minor": 2
}
